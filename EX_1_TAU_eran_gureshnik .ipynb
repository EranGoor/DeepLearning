{
  "nbformat": 4,
  "nbformat_minor": 0,
  "metadata": {
    "kernelspec": {
      "display_name": "Python 3",
      "language": "python",
      "name": "python3"
    },
    "language_info": {
      "codemirror_mode": {
        "name": "ipython",
        "version": 3
      },
      "file_extension": ".py",
      "mimetype": "text/x-python",
      "name": "python",
      "nbconvert_exporter": "python",
      "pygments_lexer": "ipython3",
      "version": "3.8.5"
    },
    "colab": {
      "name": "EX_1_TAU .ipynb",
      "provenance": []
    }
  },
  "cells": [
    {
      "cell_type": "markdown",
      "metadata": {
        "id": "EhYBwsmHx9YV"
      },
      "source": [
        "# Classification and Regression with a Neural Network in Pytorch"
      ]
    },
    {
      "cell_type": "markdown",
      "metadata": {
        "id": "r6a1CK2fx9Yi"
      },
      "source": [
        "Welcome to your first programming assignment! \n",
        "In this assignment you will build your first classification and regression neural networks.\n",
        "This assignment is a 'step-through' guide to implement a simple fully-connected neural network in Pytorch.\n",
        "\n",
        "* In the first part of this exercise, you will implement a neural network with a 2 dimensional input. Your dataset is based on a two circles-shaped groups for classification.\n",
        "\n",
        "* Then, in the second part of this exercise, you will implement a regression model for predicting the output of a two dimensional function."
      ]
    },
    {
      "cell_type": "markdown",
      "metadata": {
        "id": "CYJTyVxpx9Yk"
      },
      "source": [
        "# Packages\n",
        "Let's first import all the packages that you will need during this part of assignment.\n",
        "\n",
        "Feel free to use another libraries if you want to."
      ]
    },
    {
      "cell_type": "code",
      "metadata": {
        "id": "KqLBMiBIx9Ym"
      },
      "source": [
        "import numpy as np\n",
        "from sklearn.datasets import make_moons, make_circles\n",
        "from sklearn.model_selection import train_test_split\n",
        "from sklearn.metrics import roc_curve, roc_auc_score, auc\n",
        "from mpl_toolkits.mplot3d import Axes3D\n",
        "import matplotlib.pyplot as plt\n",
        "import torch\n",
        "from torch import nn"
      ],
      "execution_count": 2,
      "outputs": []
    },
    {
      "cell_type": "markdown",
      "metadata": {
        "id": "oo37JBgTx9Yp"
      },
      "source": [
        "# Dataset"
      ]
    },
    {
      "cell_type": "code",
      "metadata": {
        "id": "E_bA4GPyx9Yq"
      },
      "source": [
        "random_num = 0\n",
        "np.random.seed(random_num)\n",
        "torch.manual_seed(random_num)\n",
        "x, y = make_circles(10, noise=0.075)\n",
        "x_train, x_test, y_train, y_test = train_test_split(x, y, test_size=0.3)\n",
        "\n"
      ],
      "execution_count": 94,
      "outputs": []
    },
    {
      "cell_type": "markdown",
      "metadata": {
        "id": "jL3OWjlYx9Ys"
      },
      "source": [
        "**Visualize the dataset using matplotlib:**"
      ]
    },
    {
      "cell_type": "code",
      "metadata": {
        "colab": {
          "base_uri": "https://localhost:8080/",
          "height": 546
        },
        "id": "0lB3wbKZx9Yt",
        "outputId": "298a79e5-02c9-428c-92f9-9e03640c6daa"
      },
      "source": [
        "### START CODE HERE ###\n",
        "plt.plot(x[:,0]*y,x[:,1]*y,'r.')          #inner circle\n",
        "plt.plot(x[:,0]*(1-y),x[:,1]*(1-y),'g.') #outer circle\n",
        "\n",
        "#plt.plot(x_train[0:500,0],x_train[0:500,1],'kx') #train points\n",
        "plt.plot(x_test[:,0],x_test[:,1],'kx') #test points\n",
        "\n",
        "\n",
        "fig, axs = plt.subplots(2)\n",
        "axs[0].plot(x_train[:,0],x_train[:,1],'k.') # train points\n",
        "axs[0].set_title('Train points')\n",
        "axs[1].plot(x_test[:,0],x_test[:,1],'kx') #test points\n",
        "axs[1].set_title('test points')"
      ],
      "execution_count": 95,
      "outputs": [
        {
          "output_type": "execute_result",
          "data": {
            "text/plain": [
              "Text(0.5, 1.0, 'test points')"
            ]
          },
          "metadata": {},
          "execution_count": 95
        },
        {
          "output_type": "display_data",
          "data": {
            "image/png": "[encoded data removed]",
            "text/plain": [
              "<Figure size 432x288 with 1 Axes>"
            ]
          },
          "metadata": {
            "needs_background": "light"
          }
        },
        {
          "output_type": "display_data",
          "data": {
            "image/png": "[encoded data removed]",
            "text/plain": [
              "<Figure size 432x288 with 2 Axes>"
            ]
          },
          "metadata": {
            "needs_background": "light"
          }
        }
      ]
    },
    {
      "cell_type": "code",
      "metadata": {
        "id": "khh02E9zsgWl",
        "colab": {
          "base_uri": "https://localhost:8080/",
          "height": 374
        },
        "outputId": "127ff0ed-8073-4ce1-9102-f6ec48d6ad69"
      },
      "source": [
        "fig=plt.figure(figsize=(12,6))\n",
        "ax1=fig.add_subplot(1,1,1)\n",
        "ax1.scatter(x_train[:,0],x_train[:,1],c=y_train, s=50)\n",
        "plt.show()"
      ],
      "execution_count": 96,
      "outputs": [
        {
          "output_type": "display_data",
          "data": {
            "image/png": "[encoded data removed]",
            "text/plain": [
              "<Figure size 864x432 with 1 Axes>"
            ]
          },
          "metadata": {
            "needs_background": "light"
          }
        }
      ]
    },
    {
      "cell_type": "markdown",
      "metadata": {
        "id": "t9EXnCy8x9Yv"
      },
      "source": [
        "# Simple Logistic Regression"
      ]
    },
    {
      "cell_type": "markdown",
      "metadata": {
        "id": "ugTxdHc2x9Yx"
      },
      "source": [
        "1. Implement a 2-class classification neural network with a zero hidden layer.\n",
        "2. Plot loss vs epoch.\n",
        "3. Plot AUC vs epoch for train and test sets. \n",
        "4. Plot ROC curve and calculate AUC for the test set.\n",
        "5. Plot the learned decision boundary.\n",
        "6. Briefly interpret graph's results.   "
      ]
    },
    {
      "cell_type": "markdown",
      "metadata": {
        "id": "3kilj168x9Yy"
      },
      "source": [
        "How you will do it:\n",
        "\n",
        "* Prepare the Data.\n",
        "* Define the Model.\n",
        "* Train the Model.\n",
        "* Evaluate the Model.\n",
        "* Visualization."
      ]
    },
    {
      "cell_type": "markdown",
      "metadata": {
        "id": "Rz6totbSx9Yz"
      },
      "source": [
        "**Define the Model:**"
      ]
    },
    {
      "cell_type": "code",
      "metadata": {
        "id": "H2AmhytDx9Yz",
        "colab": {
          "base_uri": "https://localhost:8080/"
        },
        "outputId": "e8a76e41-0794-4eea-a742-1e3f1886b772"
      },
      "source": [
        "### START CODE HERE ###\n",
        "\n",
        "import torch.nn as nn\n",
        "import torch.nn.functional as F\n",
        "\n",
        "# define the NN architecture\n",
        "class ClassifierModel(nn.Module):\n",
        "    def __init__(self):\n",
        "        super(ClassifierModel, self).__init__()\n",
        "        self.fc1 = nn.Linear(in_features=2, out_features=3)\n",
        "        self.fc2 = nn.Linear(in_features=3, out_features=1)\n",
        "        self.sigmoid = nn.Sigmoid()\n",
        "\n",
        "    def forward(self, x):\n",
        "        # add layer, with sigmoid activation function\n",
        "        x = self.sigmoid(self.fc2(self.fc1(x)))\n",
        "        return x\n",
        "\n",
        "# initialize the NN\n",
        "model = ClassifierModel()\n",
        "print('Model:\\n',model)\n",
        "\n",
        "#loss_func = nn.BCELoss()\n",
        "loss_func = nn.MSELoss()\n",
        "learning_rate = 0.01\n",
        "optimizer = torch.optim.Adam( model.parameters(), lr=learning_rate) \n"
      ],
      "execution_count": 212,
      "outputs": [
        {
          "output_type": "stream",
          "name": "stdout",
          "text": [
            "Model:\n",
            " ClassifierModel(\n",
            "  (fc1): Linear(in_features=2, out_features=3, bias=True)\n",
            "  (fc2): Linear(in_features=3, out_features=1, bias=True)\n",
            "  (sigmoid): Sigmoid()\n",
            ")\n"
          ]
        }
      ]
    },
    {
      "cell_type": "markdown",
      "metadata": {
        "id": "0qLWmguZx9Y0"
      },
      "source": [
        "**Training and validation:**"
      ]
    },
    {
      "cell_type": "code",
      "metadata": {
        "id": "KcjnlshGx9Y1",
        "colab": {
          "base_uri": "https://localhost:8080/",
          "height": 425
        },
        "outputId": "c34c1470-f7b9-460b-d13c-c3b20d6858df"
      },
      "source": [
        "### START CODE HERE ###\n",
        "#Number of epochs\n",
        "epochs = 500\n",
        "#List to store losses\n",
        "losses = []\n",
        "\n",
        "xx_train=torch.from_numpy(x_train).type(torch.float)\n",
        "yy_train=torch.from_numpy(y_train).type(torch.float)\n",
        "\n",
        "\n",
        "print('train',xx_train.shape)\n",
        "print('expected results',yy_train.shape)\n",
        "\n",
        "for i in range(epochs):\n",
        " \n",
        " y_pred=model.forward(xx_train)\n",
        " #print(y_pred)\n",
        "\n",
        "#strange way to make y_pred the same shape as yy_train):\n",
        " y_pred=y_pred.reshape([1,7])\n",
        " yy_train=yy_train+y_pred*0\n",
        " #print(y_pred.shape, yy_train.shape)\n",
        " #print()\n",
        "\n",
        "\n",
        " loss=loss_func(y_pred,yy_train)\n",
        " #print(i,'loss=',loss)\n",
        "\n",
        "#Add loss to the list\n",
        " losses.append(loss.item())\n",
        " #print(losses)\n",
        "\n",
        "#Clear the previous gradients\n",
        " optimizer.zero_grad()\n",
        "#Compute gradients\n",
        " loss.backward(retain_graph=True)\n",
        " \n",
        "#Adjust weights\n",
        " optimizer.step()\n",
        "\n",
        "print(losses)\n",
        "\n"
      ],
      "execution_count": 215,
      "outputs": [
        {
          "output_type": "stream",
          "name": "stdout",
          "text": [
            "train torch.Size([7, 2])\n",
            "expected results torch.Size([7])\n"
          ]
        },
        {
          "output_type": "error",
          "ename": "RuntimeError",
          "evalue": "ignored",
          "traceback": [
            "\u001b[0;31m---------------------------------------------------------------------------\u001b[0m",
            "\u001b[0;31mRuntimeError\u001b[0m                              Traceback (most recent call last)",
            "\u001b[0;32m<ipython-input-215-c00ffe36b248>\u001b[0m in \u001b[0;36m<module>\u001b[0;34m()\u001b[0m\n\u001b[1;32m     34\u001b[0m  \u001b[0moptimizer\u001b[0m\u001b[0;34m.\u001b[0m\u001b[0mzero_grad\u001b[0m\u001b[0;34m(\u001b[0m\u001b[0;34m)\u001b[0m\u001b[0;34m\u001b[0m\u001b[0;34m\u001b[0m\u001b[0m\n\u001b[1;32m     35\u001b[0m \u001b[0;31m#Compute gradients\u001b[0m\u001b[0;34m\u001b[0m\u001b[0;34m\u001b[0m\u001b[0;34m\u001b[0m\u001b[0m\n\u001b[0;32m---> 36\u001b[0;31m  \u001b[0mloss\u001b[0m\u001b[0;34m.\u001b[0m\u001b[0mbackward\u001b[0m\u001b[0;34m(\u001b[0m\u001b[0mretain_graph\u001b[0m\u001b[0;34m=\u001b[0m\u001b[0;32mTrue\u001b[0m\u001b[0;34m)\u001b[0m\u001b[0;34m\u001b[0m\u001b[0;34m\u001b[0m\u001b[0m\n\u001b[0m\u001b[1;32m     37\u001b[0m \u001b[0;34m\u001b[0m\u001b[0m\n\u001b[1;32m     38\u001b[0m \u001b[0;31m#Adjust weights\u001b[0m\u001b[0;34m\u001b[0m\u001b[0;34m\u001b[0m\u001b[0;34m\u001b[0m\u001b[0m\n",
            "\u001b[0;32m/usr/local/lib/python3.7/dist-packages/torch/_tensor.py\u001b[0m in \u001b[0;36mbackward\u001b[0;34m(self, gradient, retain_graph, create_graph, inputs)\u001b[0m\n\u001b[1;32m    253\u001b[0m                 \u001b[0mcreate_graph\u001b[0m\u001b[0;34m=\u001b[0m\u001b[0mcreate_graph\u001b[0m\u001b[0;34m,\u001b[0m\u001b[0;34m\u001b[0m\u001b[0;34m\u001b[0m\u001b[0m\n\u001b[1;32m    254\u001b[0m                 inputs=inputs)\n\u001b[0;32m--> 255\u001b[0;31m         \u001b[0mtorch\u001b[0m\u001b[0;34m.\u001b[0m\u001b[0mautograd\u001b[0m\u001b[0;34m.\u001b[0m\u001b[0mbackward\u001b[0m\u001b[0;34m(\u001b[0m\u001b[0mself\u001b[0m\u001b[0;34m,\u001b[0m \u001b[0mgradient\u001b[0m\u001b[0;34m,\u001b[0m \u001b[0mretain_graph\u001b[0m\u001b[0;34m,\u001b[0m \u001b[0mcreate_graph\u001b[0m\u001b[0;34m,\u001b[0m \u001b[0minputs\u001b[0m\u001b[0;34m=\u001b[0m\u001b[0minputs\u001b[0m\u001b[0;34m)\u001b[0m\u001b[0;34m\u001b[0m\u001b[0;34m\u001b[0m\u001b[0m\n\u001b[0m\u001b[1;32m    256\u001b[0m \u001b[0;34m\u001b[0m\u001b[0m\n\u001b[1;32m    257\u001b[0m     \u001b[0;32mdef\u001b[0m \u001b[0mregister_hook\u001b[0m\u001b[0;34m(\u001b[0m\u001b[0mself\u001b[0m\u001b[0;34m,\u001b[0m \u001b[0mhook\u001b[0m\u001b[0;34m)\u001b[0m\u001b[0;34m:\u001b[0m\u001b[0;34m\u001b[0m\u001b[0;34m\u001b[0m\u001b[0m\n",
            "\u001b[0;32m/usr/local/lib/python3.7/dist-packages/torch/autograd/__init__.py\u001b[0m in \u001b[0;36mbackward\u001b[0;34m(tensors, grad_tensors, retain_graph, create_graph, grad_variables, inputs)\u001b[0m\n\u001b[1;32m    147\u001b[0m     Variable._execution_engine.run_backward(\n\u001b[1;32m    148\u001b[0m         \u001b[0mtensors\u001b[0m\u001b[0;34m,\u001b[0m \u001b[0mgrad_tensors_\u001b[0m\u001b[0;34m,\u001b[0m \u001b[0mretain_graph\u001b[0m\u001b[0;34m,\u001b[0m \u001b[0mcreate_graph\u001b[0m\u001b[0;34m,\u001b[0m \u001b[0minputs\u001b[0m\u001b[0;34m,\u001b[0m\u001b[0;34m\u001b[0m\u001b[0;34m\u001b[0m\u001b[0m\n\u001b[0;32m--> 149\u001b[0;31m         allow_unreachable=True, accumulate_grad=True)  # allow_unreachable flag\n\u001b[0m\u001b[1;32m    150\u001b[0m \u001b[0;34m\u001b[0m\u001b[0m\n\u001b[1;32m    151\u001b[0m \u001b[0;34m\u001b[0m\u001b[0m\n",
            "\u001b[0;31mRuntimeError\u001b[0m: one of the variables needed for gradient computation has been modified by an inplace operation: [torch.FloatTensor [3, 1]], which is output 0 of TBackward, is at version 4; expected version 3 instead. Hint: enable anomaly detection to find the operation that failed to compute its gradient, with torch.autograd.set_detect_anomaly(True)."
          ]
        }
      ]
    },
    {
      "cell_type": "markdown",
      "metadata": {
        "id": "dLoNLPfIx9Y1"
      },
      "source": [
        "**Visualizing the plots**:"
      ]
    },
    {
      "cell_type": "code",
      "metadata": {
        "id": "qBXHPxh0x9Y2",
        "colab": {
          "base_uri": "https://localhost:8080/",
          "height": 350
        },
        "outputId": "40e78cab-e2a0-4e2b-ce25-a564a75b7d54"
      },
      "source": [
        "### START CODE HERE ###\n",
        "results = model(torch.Tensor(x_test))\n",
        "normalized_results = np.asarray([1 if item[0] > item[1] else 0 for item in results])\n",
        "\n",
        "plt.plot(x_test[:,0]*normalized_results,x_test[:,1]*normalized_results,'r.')          #inner circle\n",
        "plt.plot(x_test[:,0]*(1-normalized_results),x_test[:,1]*(1-normalized_results),'g.') #outer circle"
      ],
      "execution_count": 208,
      "outputs": [
        {
          "output_type": "error",
          "ename": "IndexError",
          "evalue": "ignored",
          "traceback": [
            "\u001b[0;31m---------------------------------------------------------------------------\u001b[0m",
            "\u001b[0;31mIndexError\u001b[0m                                Traceback (most recent call last)",
            "\u001b[0;32m<ipython-input-208-8599229c1fb2>\u001b[0m in \u001b[0;36m<module>\u001b[0;34m()\u001b[0m\n\u001b[1;32m      1\u001b[0m \u001b[0;31m### START CODE HERE ###\u001b[0m\u001b[0;34m\u001b[0m\u001b[0;34m\u001b[0m\u001b[0;34m\u001b[0m\u001b[0m\n\u001b[1;32m      2\u001b[0m \u001b[0mresults\u001b[0m \u001b[0;34m=\u001b[0m \u001b[0mmodel\u001b[0m\u001b[0;34m(\u001b[0m\u001b[0mtorch\u001b[0m\u001b[0;34m.\u001b[0m\u001b[0mTensor\u001b[0m\u001b[0;34m(\u001b[0m\u001b[0mx_test\u001b[0m\u001b[0;34m)\u001b[0m\u001b[0;34m)\u001b[0m\u001b[0;34m\u001b[0m\u001b[0;34m\u001b[0m\u001b[0m\n\u001b[0;32m----> 3\u001b[0;31m \u001b[0mnormalized_results\u001b[0m \u001b[0;34m=\u001b[0m \u001b[0mnp\u001b[0m\u001b[0;34m.\u001b[0m\u001b[0masarray\u001b[0m\u001b[0;34m(\u001b[0m\u001b[0;34m[\u001b[0m\u001b[0;36m1\u001b[0m \u001b[0;32mif\u001b[0m \u001b[0mitem\u001b[0m\u001b[0;34m[\u001b[0m\u001b[0;36m0\u001b[0m\u001b[0;34m]\u001b[0m \u001b[0;34m>\u001b[0m \u001b[0mitem\u001b[0m\u001b[0;34m[\u001b[0m\u001b[0;36m1\u001b[0m\u001b[0;34m]\u001b[0m \u001b[0;32melse\u001b[0m \u001b[0;36m0\u001b[0m \u001b[0;32mfor\u001b[0m \u001b[0mitem\u001b[0m \u001b[0;32min\u001b[0m \u001b[0mresults\u001b[0m\u001b[0;34m]\u001b[0m\u001b[0;34m)\u001b[0m\u001b[0;34m\u001b[0m\u001b[0;34m\u001b[0m\u001b[0m\n\u001b[0m\u001b[1;32m      4\u001b[0m \u001b[0;34m\u001b[0m\u001b[0m\n\u001b[1;32m      5\u001b[0m \u001b[0mplt\u001b[0m\u001b[0;34m.\u001b[0m\u001b[0mplot\u001b[0m\u001b[0;34m(\u001b[0m\u001b[0mx_test\u001b[0m\u001b[0;34m[\u001b[0m\u001b[0;34m:\u001b[0m\u001b[0;34m,\u001b[0m\u001b[0;36m0\u001b[0m\u001b[0;34m]\u001b[0m\u001b[0;34m*\u001b[0m\u001b[0mnormalized_results\u001b[0m\u001b[0;34m,\u001b[0m\u001b[0mx_test\u001b[0m\u001b[0;34m[\u001b[0m\u001b[0;34m:\u001b[0m\u001b[0;34m,\u001b[0m\u001b[0;36m1\u001b[0m\u001b[0;34m]\u001b[0m\u001b[0;34m*\u001b[0m\u001b[0mnormalized_results\u001b[0m\u001b[0;34m,\u001b[0m\u001b[0;34m'r.'\u001b[0m\u001b[0;34m)\u001b[0m          \u001b[0;31m#inner circle\u001b[0m\u001b[0;34m\u001b[0m\u001b[0;34m\u001b[0m\u001b[0m\n",
            "\u001b[0;32m<ipython-input-208-8599229c1fb2>\u001b[0m in \u001b[0;36m<listcomp>\u001b[0;34m(.0)\u001b[0m\n\u001b[1;32m      1\u001b[0m \u001b[0;31m### START CODE HERE ###\u001b[0m\u001b[0;34m\u001b[0m\u001b[0;34m\u001b[0m\u001b[0;34m\u001b[0m\u001b[0m\n\u001b[1;32m      2\u001b[0m \u001b[0mresults\u001b[0m \u001b[0;34m=\u001b[0m \u001b[0mmodel\u001b[0m\u001b[0;34m(\u001b[0m\u001b[0mtorch\u001b[0m\u001b[0;34m.\u001b[0m\u001b[0mTensor\u001b[0m\u001b[0;34m(\u001b[0m\u001b[0mx_test\u001b[0m\u001b[0;34m)\u001b[0m\u001b[0;34m)\u001b[0m\u001b[0;34m\u001b[0m\u001b[0;34m\u001b[0m\u001b[0m\n\u001b[0;32m----> 3\u001b[0;31m \u001b[0mnormalized_results\u001b[0m \u001b[0;34m=\u001b[0m \u001b[0mnp\u001b[0m\u001b[0;34m.\u001b[0m\u001b[0masarray\u001b[0m\u001b[0;34m(\u001b[0m\u001b[0;34m[\u001b[0m\u001b[0;36m1\u001b[0m \u001b[0;32mif\u001b[0m \u001b[0mitem\u001b[0m\u001b[0;34m[\u001b[0m\u001b[0;36m0\u001b[0m\u001b[0;34m]\u001b[0m \u001b[0;34m>\u001b[0m \u001b[0mitem\u001b[0m\u001b[0;34m[\u001b[0m\u001b[0;36m1\u001b[0m\u001b[0;34m]\u001b[0m \u001b[0;32melse\u001b[0m \u001b[0;36m0\u001b[0m \u001b[0;32mfor\u001b[0m \u001b[0mitem\u001b[0m \u001b[0;32min\u001b[0m \u001b[0mresults\u001b[0m\u001b[0;34m]\u001b[0m\u001b[0;34m)\u001b[0m\u001b[0;34m\u001b[0m\u001b[0;34m\u001b[0m\u001b[0m\n\u001b[0m\u001b[1;32m      4\u001b[0m \u001b[0;34m\u001b[0m\u001b[0m\n\u001b[1;32m      5\u001b[0m \u001b[0mplt\u001b[0m\u001b[0;34m.\u001b[0m\u001b[0mplot\u001b[0m\u001b[0;34m(\u001b[0m\u001b[0mx_test\u001b[0m\u001b[0;34m[\u001b[0m\u001b[0;34m:\u001b[0m\u001b[0;34m,\u001b[0m\u001b[0;36m0\u001b[0m\u001b[0;34m]\u001b[0m\u001b[0;34m*\u001b[0m\u001b[0mnormalized_results\u001b[0m\u001b[0;34m,\u001b[0m\u001b[0mx_test\u001b[0m\u001b[0;34m[\u001b[0m\u001b[0;34m:\u001b[0m\u001b[0;34m,\u001b[0m\u001b[0;36m1\u001b[0m\u001b[0;34m]\u001b[0m\u001b[0;34m*\u001b[0m\u001b[0mnormalized_results\u001b[0m\u001b[0;34m,\u001b[0m\u001b[0;34m'r.'\u001b[0m\u001b[0;34m)\u001b[0m          \u001b[0;31m#inner circle\u001b[0m\u001b[0;34m\u001b[0m\u001b[0;34m\u001b[0m\u001b[0m\n",
            "\u001b[0;31mIndexError\u001b[0m: index 1 is out of bounds for dimension 0 with size 1"
          ]
        }
      ]
    },
    {
      "cell_type": "markdown",
      "metadata": {
        "id": "0X1MkQYux9Y2"
      },
      "source": [
        "7. Is the decision boundary linear or nonlinear in the case of a logistic regression? Explain."
      ]
    },
    {
      "cell_type": "markdown",
      "metadata": {
        "id": "-CR6UciXx9Y2"
      },
      "source": [
        "# Classification with Neural Networks"
      ]
    },
    {
      "cell_type": "markdown",
      "metadata": {
        "id": "tP-4i4cJx9Y3"
      },
      "source": [
        "After you implemented \"classical\" logistic regression, now you will be implementing a neural network with one or more hidden layers.\n",
        "You will need to choose the number of hidden layers and nodes in a feedforward neural network, activation function, the type of optimizer and its hyperparmeters which will give you the best result. Remember, we don't want to overfit the training data, we want to generalize the solution for new data not seen during training. \n",
        "\n",
        "Plot the same graphs as in the previous sections and explain the similarities and differences. "
      ]
    },
    {
      "cell_type": "markdown",
      "metadata": {
        "id": "LVJN2Q4gx9Y3"
      },
      "source": [
        "**Define the Model:**"
      ]
    },
    {
      "cell_type": "code",
      "metadata": {
        "id": "nNaMAqlyx9Y3"
      },
      "source": [
        "### START CODE HERE ###\n"
      ],
      "execution_count": null,
      "outputs": []
    },
    {
      "cell_type": "markdown",
      "metadata": {
        "id": "7FRECfxix9Y4"
      },
      "source": [
        "**Training and validation:**"
      ]
    },
    {
      "cell_type": "code",
      "metadata": {
        "id": "ctysVfz-x9Y4"
      },
      "source": [
        "### START CODE HERE ###\n"
      ],
      "execution_count": null,
      "outputs": []
    },
    {
      "cell_type": "markdown",
      "metadata": {
        "id": "Mk2c7HNRx9Y5"
      },
      "source": [
        "**Visualizing the plots:**"
      ]
    },
    {
      "cell_type": "code",
      "metadata": {
        "id": "QedsPcBlx9Y5"
      },
      "source": [
        "### START CODE HERE ###\n"
      ],
      "execution_count": null,
      "outputs": []
    },
    {
      "cell_type": "markdown",
      "metadata": {
        "id": "sYhynQtMx9Y5"
      },
      "source": [
        "8. Why does a neural network need a non-linear activation function? try to figure out what heppan when you remove the activation function and explain the results."
      ]
    },
    {
      "cell_type": "markdown",
      "metadata": {
        "id": "NFKNkdO0x9Y5"
      },
      "source": [
        "# Regression with Neural Networks"
      ]
    },
    {
      "cell_type": "markdown",
      "metadata": {
        "id": "O-jdCejgx9Y6"
      },
      "source": [
        "In this part of the excercise you will need to implement a regression model using neural networks. The model should predict the output of a trigonometric function of two variables. Your data set is based on a meshgrid. Your task is to create a list of points that would correspond to a grid and use it for the input of your neural network. Then, build your neural networks and find the architecture which gives you the best results.\n",
        "1. Plot the surface from the overall data and compare it to your predicted test sets.\n",
        "2. Which loss function and validation metric did you choose?\n",
        "3. Plot the loss and validation metrics vs epoch for the training and test sets.\n",
        "4. Build a new neural network and try overfitting your training set. Show the overfitting by using learning curve plots. \n",
        "    **Note**: You can use plt.ylim() function to better focus on the changes in the trends."
      ]
    },
    {
      "cell_type": "markdown",
      "metadata": {
        "id": "d9zph2Vtx9Y7"
      },
      "source": [
        "# Packages "
      ]
    },
    {
      "cell_type": "markdown",
      "metadata": {
        "id": "_GpDf-3Fx9Y7"
      },
      "source": [
        "First import all the packages that you will need during this part of assignment.\n",
        "\n",
        "Feel free to use another libraries if you want to."
      ]
    },
    {
      "cell_type": "code",
      "metadata": {
        "id": "T9oe6aQ2x9Y7"
      },
      "source": [
        "import numpy as np\n",
        "import torch\n",
        "from torch.autograd import Variable\n",
        "from sklearn.metrics import mean_squared_error\n",
        "import matplotlib.pyplot as plt\n",
        "from matplotlib import cm"
      ],
      "execution_count": null,
      "outputs": []
    },
    {
      "cell_type": "markdown",
      "metadata": {
        "id": "Kij7S0-Wx9Y8"
      },
      "source": [
        "**Generate data:**"
      ]
    },
    {
      "cell_type": "code",
      "metadata": {
        "id": "BSXUrEYYx9Y8"
      },
      "source": [
        "np.random.seed(random_num)\n",
        "x = np.linspace(-5, 5, 30)\n",
        "y = np.linspace(-5, 5, 30)\n",
        "xx, yy = np.meshgrid(x, y)\n",
        "z = np.sin(xx) * np.cos(yy) + 0.1 * np.random.rand(xx.shape[0], xx.shape[1])"
      ],
      "execution_count": null,
      "outputs": []
    },
    {
      "cell_type": "markdown",
      "metadata": {
        "id": "AHyiXEwBx9Y9"
      },
      "source": [
        "**Define the Model:**"
      ]
    },
    {
      "cell_type": "code",
      "metadata": {
        "id": "3NURF-wjx9Y9"
      },
      "source": [
        "### START CODE HERE ###\n"
      ],
      "execution_count": null,
      "outputs": []
    },
    {
      "cell_type": "markdown",
      "metadata": {
        "id": "HWUbcMgbx9Y9"
      },
      "source": [
        "**Training and validation:**"
      ]
    },
    {
      "cell_type": "code",
      "metadata": {
        "id": "p6UKhazsx9Y-"
      },
      "source": [
        "### START CODE HERE ###\n"
      ],
      "execution_count": null,
      "outputs": []
    },
    {
      "cell_type": "markdown",
      "metadata": {
        "id": "Nbur6Fdex9Y-"
      },
      "source": [
        "**Visualizing the plots:**"
      ]
    },
    {
      "cell_type": "code",
      "metadata": {
        "id": "nlfjlsxVx9Y-"
      },
      "source": [
        "### START CODE HERE ###\n"
      ],
      "execution_count": null,
      "outputs": []
    },
    {
      "cell_type": "markdown",
      "metadata": {
        "id": "boZhu8k_x9Y_"
      },
      "source": [
        "### Build a new neural network and try overfitting your training set"
      ]
    },
    {
      "cell_type": "markdown",
      "metadata": {
        "id": "dk_I-i6xx9Y_"
      },
      "source": [
        "**Generate data:**"
      ]
    },
    {
      "cell_type": "code",
      "metadata": {
        "id": "idx53WLwx9Y_"
      },
      "source": [
        "np.random.seed(random_num)\n",
        "x = np.linspace(-5, 5, 30)\n",
        "y = np.linspace(-5, 5, 30)\n",
        "xx, yy = np.meshgrid(x, y)\n",
        "z = np.sin(xx) * np.cos(yy) + 0.1 * np.random.rand(xx.shape[0], xx.shape[1])"
      ],
      "execution_count": null,
      "outputs": []
    },
    {
      "cell_type": "markdown",
      "metadata": {
        "id": "sMeg07b6x9Y_"
      },
      "source": [
        "**Define the Model:**"
      ]
    },
    {
      "cell_type": "code",
      "metadata": {
        "id": "sdp-x_r0x9Y_"
      },
      "source": [
        "### START CODE HERE ###\n"
      ],
      "execution_count": null,
      "outputs": []
    },
    {
      "cell_type": "markdown",
      "metadata": {
        "id": "2M_4x_ifx9ZA"
      },
      "source": [
        "**Training and validation:**"
      ]
    },
    {
      "cell_type": "code",
      "metadata": {
        "id": "-7v6FpD3x9ZA"
      },
      "source": [
        "### START CODE HERE ###\n"
      ],
      "execution_count": null,
      "outputs": []
    },
    {
      "cell_type": "markdown",
      "metadata": {
        "id": "QjA9HmnBx9ZA"
      },
      "source": [
        "**Visualizing the plots:**"
      ]
    },
    {
      "cell_type": "code",
      "metadata": {
        "id": "NZCgZNjOx9ZA"
      },
      "source": [
        "### START CODE HERE ###\n"
      ],
      "execution_count": null,
      "outputs": []
    },
    {
      "cell_type": "markdown",
      "metadata": {
        "id": "MtNUHi7cx9ZA"
      },
      "source": [
        "5. Briefly explain graph's results."
      ]
    },
    {
      "cell_type": "markdown",
      "metadata": {
        "id": "xWv0Zgobx9ZA"
      },
      "source": [
        "6. How does your metric value differs between the training data and the test data and why?\n"
      ]
    }
  ]
}