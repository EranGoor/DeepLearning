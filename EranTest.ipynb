{
  "nbformat": 4,
  "nbformat_minor": 0,
  "metadata": {
    "colab": {
      "name": "EranTest",
      "provenance": [],
      "collapsed_sections": [],
      "authorship_tag": "ABX9TyOdi/gKMlr6FCsls1nMzhjq",
      "include_colab_link": true
    },
    "kernelspec": {
      "name": "python3",
      "display_name": "Python 3"
    },
    "language_info": {
      "name": "python"
    },
    "accelerator": "GPU"
  },
  "cells": [
    {
      "cell_type": "markdown",
      "metadata": {
        "id": "view-in-github",
        "colab_type": "text"
      },
      "source": [
        "<a href=\"https://colab.research.google.com/github/EranGoor/DeepLearning/blob/main/EranTest.ipynb\" target=\"_parent\"><img src=\"https://colab.research.google.com/assets/colab-badge.svg\" alt=\"Open In Colab\"/></a>"
      ]
    },
    {
      "cell_type": "code",
      "metadata": {
        "id": "yxPbZ1vNcg26",
        "colab": {
          "base_uri": "https://localhost:8080/"
        },
        "outputId": "0f2841c6-6b26-481c-c371-77d0f8e1ce20"
      },
      "source": [
        "!pip install numpy"
      ],
      "execution_count": 1,
      "outputs": [
        {
          "output_type": "stream",
          "name": "stdout",
          "text": [
            "Requirement already satisfied: numpy in /usr/local/lib/python3.7/dist-packages (1.19.5)\n"
          ]
        }
      ]
    },
    {
      "cell_type": "code",
      "metadata": {
        "id": "A_fEGThFEGrK"
      },
      "source": [
        "import torch\n",
        "import torchvision\n",
        "import numpy as np"
      ],
      "execution_count": 2,
      "outputs": []
    },
    {
      "cell_type": "code",
      "metadata": {
        "colab": {
          "base_uri": "https://localhost:8080/"
        },
        "id": "yYFC-Ng4Eai8",
        "outputId": "89a847fa-1165-4877-d28a-b87310d28b0d"
      },
      "source": [
        "from google.colab import drive\n",
        "drive.mount(\"/content/gdrive\")"
      ],
      "execution_count": 3,
      "outputs": [
        {
          "output_type": "stream",
          "name": "stdout",
          "text": [
            "Mounted at /content/gdrive\n"
          ]
        }
      ]
    },
    {
      "cell_type": "code",
      "metadata": {
        "colab": {
          "base_uri": "https://localhost:8080/"
        },
        "id": "PpaymSOQFAOw",
        "outputId": "39988d28-dc03-40a4-b901-7a5dbc901c10"
      },
      "source": [
        "print(f\"Cuda is available: {torch.cuda.is_available()}\")\n",
        "print(f\"Number of GPUs: {torch.cuda.device_count()}\")"
      ],
      "execution_count": 12,
      "outputs": [
        {
          "output_type": "stream",
          "name": "stdout",
          "text": [
            "Cuda is available: True\n",
            "Number of GPUs: 1\n"
          ]
        }
      ]
    },
    {
      "cell_type": "code",
      "metadata": {
        "colab": {
          "base_uri": "https://localhost:8080/"
        },
        "id": "UDPjCKN8HGGj",
        "outputId": "678c7d6b-a51d-45cb-9a19-74f7f55499f0"
      },
      "source": [
        "class Pet:\n",
        "  def __init__(self, age, word):\n",
        "    self.age = age\n",
        "    self.hunger = 10\n",
        "    self.word = word\n",
        "\n",
        "  def feed(self, amount):\n",
        "    self.hunger -= amount\n",
        "    if self.hunger <= 0:\n",
        "      self.hunger = 0\n",
        "      print(f'{self.word}!')\n",
        "\n",
        "  def get_age(self):\n",
        "    return self.age\n",
        "\n",
        "class Dog(Pet):\n",
        "  def __init__(self, age):\n",
        "    super(Dog, self).__init__(age, \"woof\")\n",
        "\n",
        "  def go_for_a_walk(self):\n",
        "    print('woof!')\n",
        "\n",
        "class Cat(Pet):\n",
        "  def __init__(self, age):\n",
        "    super(Cat, self).__init__(age, \"meow\")\n",
        "\n",
        "\n",
        "dog = Dog(2)\n",
        "dog.feed(3)\n",
        "dog.feed(3)\n",
        "dog.feed(3)\n",
        "dog.feed(3)\n",
        "\n",
        "cat = Cat(8)\n",
        "cat.feed(3)\n",
        "cat.feed(3)\n",
        "cat.feed(3)\n",
        "cat.feed(3)\n",
        "\n",
        "b = cat.get_age()\n",
        "print(b)\n",
        "\n",
        "\n",
        "for item, item2 in [[1, 2], [2, 3]]:\n",
        "  print(item, item2)\n"
      ],
      "execution_count": 40,
      "outputs": [
        {
          "output_type": "stream",
          "name": "stdout",
          "text": [
            "woof!\n",
            "meow!\n",
            "8\n",
            "1 2\n",
            "2 3\n"
          ]
        }
      ]
    },
    {
      "cell_type": "code",
      "metadata": {
        "id": "z1Qz-PvJPrh6"
      },
      "source": [
        ""
      ],
      "execution_count": null,
      "outputs": []
    }
  ]
}