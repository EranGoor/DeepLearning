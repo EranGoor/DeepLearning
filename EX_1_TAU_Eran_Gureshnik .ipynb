{
  "nbformat": 4,
  "nbformat_minor": 0,
  "metadata": {
    "kernelspec": {
      "display_name": "Python 3",
      "language": "python",
      "name": "python3"
    },
    "language_info": {
      "codemirror_mode": {
        "name": "ipython",
        "version": 3
      },
      "file_extension": ".py",
      "mimetype": "text/x-python",
      "name": "python",
      "nbconvert_exporter": "python",
      "pygments_lexer": "ipython3",
      "version": "3.8.5"
    },
    "colab": {
      "name": "EX_1_TAU .ipynb",
      "provenance": []
    }
  },
  "cells": [
    {
      "cell_type": "markdown",
      "metadata": {
        "id": "EhYBwsmHx9YV"
      },
      "source": [
        "# Classification and Regression with a Neural Network in Pytorch"
      ]
    },
    {
      "cell_type": "markdown",
      "metadata": {
        "id": "r6a1CK2fx9Yi"
      },
      "source": [
        "Welcome to your first programming assignment! \n",
        "In this assignment you will build your first classification and regression neural networks.\n",
        "This assignment is a 'step-through' guide to implement a simple fully-connected neural network in Pytorch.\n",
        "\n",
        "* In the first part of this exercise, you will implement a neural network with a 2 dimensional input. Your dataset is based on a two circles-shaped groups for classification.\n",
        "\n",
        "* Then, in the second part of this exercise, you will implement a regression model for predicting the output of a two dimensional function."
      ]
    },
    {
      "cell_type": "markdown",
      "metadata": {
        "id": "CYJTyVxpx9Yk"
      },
      "source": [
        "# Packages\n",
        "Let's first import all the packages that you will need during this part of assignment.\n",
        "\n",
        "Feel free to use another libraries if you want to."
      ]
    },
    {
      "cell_type": "code",
      "metadata": {
        "id": "KqLBMiBIx9Ym"
      },
      "source": [
        "import numpy as np\n",
        "from sklearn.datasets import make_moons, make_circles\n",
        "from sklearn.model_selection import train_test_split\n",
        "from sklearn.metrics import roc_curve, roc_auc_score, auc\n",
        "from mpl_toolkits.mplot3d import Axes3D\n",
        "import matplotlib.pyplot as plt\n",
        "import torch\n",
        "from torch import nn"
      ],
      "execution_count": null,
      "outputs": []
    },
    {
      "cell_type": "markdown",
      "metadata": {
        "id": "oo37JBgTx9Yp"
      },
      "source": [
        "# Dataset"
      ]
    },
    {
      "cell_type": "code",
      "metadata": {
        "id": "E_bA4GPyx9Yq"
      },
      "source": [
        "random_num = 0\n",
        "np.random.seed(random_num)\n",
        "torch.manual_seed(random_num)\n",
        "x, y = make_circles(500, noise=0.075)\n",
        "x_train, x_test, y_train, y_test = train_test_split(x, y, test_size=0.3)"
      ],
      "execution_count": null,
      "outputs": []
    },
    {
      "cell_type": "markdown",
      "metadata": {
        "id": "jL3OWjlYx9Ys"
      },
      "source": [
        "**Visualize the dataset using matplotlib:**"
      ]
    },
    {
      "cell_type": "code",
      "metadata": {
        "id": "0lB3wbKZx9Yt"
      },
      "source": [
        "### START CODE HERE ###\n"
      ],
      "execution_count": null,
      "outputs": []
    },
    {
      "cell_type": "markdown",
      "metadata": {
        "id": "t9EXnCy8x9Yv"
      },
      "source": [
        "# Simple Logistic Regression"
      ]
    },
    {
      "cell_type": "markdown",
      "metadata": {
        "id": "ugTxdHc2x9Yx"
      },
      "source": [
        "1. Implement a 2-class classification neural network with a zero hidden layer.\n",
        "2. Plot loss vs epoch.\n",
        "3. Plot AUC vs epoch for train and test sets. \n",
        "4. Plot ROC curve and calculate AUC for the test set.\n",
        "5. Plot the learned decision boundary.\n",
        "6. Briefly interpret graph's results.   "
      ]
    },
    {
      "cell_type": "markdown",
      "metadata": {
        "id": "3kilj168x9Yy"
      },
      "source": [
        "How you will do it:\n",
        "\n",
        "* Prepare the Data.\n",
        "* Define the Model.\n",
        "* Train the Model.\n",
        "* Evaluate the Model.\n",
        "* Visualization."
      ]
    },
    {
      "cell_type": "markdown",
      "metadata": {
        "id": "Rz6totbSx9Yz"
      },
      "source": [
        "**Define the Model:**"
      ]
    },
    {
      "cell_type": "code",
      "metadata": {
        "id": "H2AmhytDx9Yz"
      },
      "source": [
        "### START CODE HERE ###\n"
      ],
      "execution_count": null,
      "outputs": []
    },
    {
      "cell_type": "markdown",
      "metadata": {
        "id": "0qLWmguZx9Y0"
      },
      "source": [
        "**Training and validation:**"
      ]
    },
    {
      "cell_type": "code",
      "metadata": {
        "id": "KcjnlshGx9Y1"
      },
      "source": [
        "### START CODE HERE ###\n"
      ],
      "execution_count": null,
      "outputs": []
    },
    {
      "cell_type": "markdown",
      "metadata": {
        "id": "dLoNLPfIx9Y1"
      },
      "source": [
        "**Visualizing the plots**:"
      ]
    },
    {
      "cell_type": "code",
      "metadata": {
        "id": "qBXHPxh0x9Y2"
      },
      "source": [
        "### START CODE HERE ###\n"
      ],
      "execution_count": null,
      "outputs": []
    },
    {
      "cell_type": "markdown",
      "metadata": {
        "id": "0X1MkQYux9Y2"
      },
      "source": [
        "7. Is the decision boundary linear or nonlinear in the case of a logistic regression? Explain."
      ]
    },
    {
      "cell_type": "markdown",
      "metadata": {
        "id": "-CR6UciXx9Y2"
      },
      "source": [
        "# Classification with Neural Networks"
      ]
    },
    {
      "cell_type": "markdown",
      "metadata": {
        "id": "tP-4i4cJx9Y3"
      },
      "source": [
        "After you implemented \"classical\" logistic regression, now you will be implementing a neural network with one or more hidden layers.\n",
        "You will need to choose the number of hidden layers and nodes in a feedforward neural network, activation function, the type of optimizer and its hyperparmeters which will give you the best result. Remember, we don't want to overfit the training data, we want to generalize the solution for new data not seen during training. \n",
        "\n",
        "Plot the same graphs as in the previous sections and explain the similarities and differences. "
      ]
    },
    {
      "cell_type": "markdown",
      "metadata": {
        "id": "LVJN2Q4gx9Y3"
      },
      "source": [
        "**Define the Model:**"
      ]
    },
    {
      "cell_type": "code",
      "metadata": {
        "id": "nNaMAqlyx9Y3"
      },
      "source": [
        "### START CODE HERE ###\n"
      ],
      "execution_count": null,
      "outputs": []
    },
    {
      "cell_type": "markdown",
      "metadata": {
        "id": "7FRECfxix9Y4"
      },
      "source": [
        "**Training and validation:**"
      ]
    },
    {
      "cell_type": "code",
      "metadata": {
        "id": "ctysVfz-x9Y4"
      },
      "source": [
        "### START CODE HERE ###\n"
      ],
      "execution_count": null,
      "outputs": []
    },
    {
      "cell_type": "markdown",
      "metadata": {
        "id": "Mk2c7HNRx9Y5"
      },
      "source": [
        "**Visualizing the plots:**"
      ]
    },
    {
      "cell_type": "code",
      "metadata": {
        "id": "QedsPcBlx9Y5"
      },
      "source": [
        "### START CODE HERE ###\n"
      ],
      "execution_count": null,
      "outputs": []
    },
    {
      "cell_type": "markdown",
      "metadata": {
        "id": "sYhynQtMx9Y5"
      },
      "source": [
        "8. Why does a neural network need a non-linear activation function? try to figure out what heppan when you remove the activation function and explain the results."
      ]
    },
    {
      "cell_type": "markdown",
      "metadata": {
        "id": "NFKNkdO0x9Y5"
      },
      "source": [
        "# Regression with Neural Networks"
      ]
    },
    {
      "cell_type": "markdown",
      "metadata": {
        "id": "O-jdCejgx9Y6"
      },
      "source": [
        "In this part of the excercise you will need to implement a regression model using neural networks. The model should predict the output of a trigonometric function of two variables. Your data set is based on a meshgrid. Your task is to create a list of points that would correspond to a grid and use it for the input of your neural network. Then, build your neural networks and find the architecture which gives you the best results.\n",
        "1. Plot the surface from the overall data and compare it to your predicted test sets.\n",
        "2. Which loss function and validation metric did you choose?\n",
        "3. Plot the loss and validation metrics vs epoch for the training and test sets.\n",
        "4. Build a new neural network and try overfitting your training set. Show the overfitting by using learning curve plots. \n",
        "    **Note**: You can use plt.ylim() function to better focus on the changes in the trends."
      ]
    },
    {
      "cell_type": "markdown",
      "metadata": {
        "id": "d9zph2Vtx9Y7"
      },
      "source": [
        "# Packages "
      ]
    },
    {
      "cell_type": "markdown",
      "metadata": {
        "id": "_GpDf-3Fx9Y7"
      },
      "source": [
        "First import all the packages that you will need during this part of assignment.\n",
        "\n",
        "Feel free to use another libraries if you want to."
      ]
    },
    {
      "cell_type": "code",
      "metadata": {
        "id": "T9oe6aQ2x9Y7"
      },
      "source": [
        "import numpy as np\n",
        "import torch\n",
        "from torch.autograd import Variable\n",
        "from sklearn.metrics import mean_squared_error\n",
        "import matplotlib.pyplot as plt\n",
        "from matplotlib import cm"
      ],
      "execution_count": null,
      "outputs": []
    },
    {
      "cell_type": "markdown",
      "metadata": {
        "id": "Kij7S0-Wx9Y8"
      },
      "source": [
        "**Generate data:**"
      ]
    },
    {
      "cell_type": "code",
      "metadata": {
        "id": "BSXUrEYYx9Y8"
      },
      "source": [
        "np.random.seed(random_num)\n",
        "x = np.linspace(-5, 5, 30)\n",
        "y = np.linspace(-5, 5, 30)\n",
        "xx, yy = np.meshgrid(x, y)\n",
        "z = np.sin(xx) * np.cos(yy) + 0.1 * np.random.rand(xx.shape[0], xx.shape[1])"
      ],
      "execution_count": null,
      "outputs": []
    },
    {
      "cell_type": "markdown",
      "metadata": {
        "id": "AHyiXEwBx9Y9"
      },
      "source": [
        "**Define the Model:**"
      ]
    },
    {
      "cell_type": "code",
      "metadata": {
        "id": "3NURF-wjx9Y9"
      },
      "source": [
        "### START CODE HERE ###\n"
      ],
      "execution_count": null,
      "outputs": []
    },
    {
      "cell_type": "markdown",
      "metadata": {
        "id": "HWUbcMgbx9Y9"
      },
      "source": [
        "**Training and validation:**"
      ]
    },
    {
      "cell_type": "code",
      "metadata": {
        "id": "p6UKhazsx9Y-"
      },
      "source": [
        "### START CODE HERE ###\n"
      ],
      "execution_count": null,
      "outputs": []
    },
    {
      "cell_type": "markdown",
      "metadata": {
        "id": "Nbur6Fdex9Y-"
      },
      "source": [
        "**Visualizing the plots:**"
      ]
    },
    {
      "cell_type": "code",
      "metadata": {
        "id": "nlfjlsxVx9Y-"
      },
      "source": [
        "### START CODE HERE ###\n"
      ],
      "execution_count": null,
      "outputs": []
    },
    {
      "cell_type": "markdown",
      "metadata": {
        "id": "boZhu8k_x9Y_"
      },
      "source": [
        "### Build a new neural network and try overfitting your training set"
      ]
    },
    {
      "cell_type": "markdown",
      "metadata": {
        "id": "dk_I-i6xx9Y_"
      },
      "source": [
        "**Generate data:**"
      ]
    },
    {
      "cell_type": "code",
      "metadata": {
        "id": "idx53WLwx9Y_"
      },
      "source": [
        "np.random.seed(random_num)\n",
        "x = np.linspace(-5, 5, 30)\n",
        "y = np.linspace(-5, 5, 30)\n",
        "xx, yy = np.meshgrid(x, y)\n",
        "z = np.sin(xx) * np.cos(yy) + 0.1 * np.random.rand(xx.shape[0], xx.shape[1])"
      ],
      "execution_count": null,
      "outputs": []
    },
    {
      "cell_type": "markdown",
      "metadata": {
        "id": "sMeg07b6x9Y_"
      },
      "source": [
        "**Define the Model:**"
      ]
    },
    {
      "cell_type": "code",
      "metadata": {
        "id": "sdp-x_r0x9Y_"
      },
      "source": [
        "### START CODE HERE ###\n"
      ],
      "execution_count": null,
      "outputs": []
    },
    {
      "cell_type": "markdown",
      "metadata": {
        "id": "2M_4x_ifx9ZA"
      },
      "source": [
        "**Training and validation:**"
      ]
    },
    {
      "cell_type": "code",
      "metadata": {
        "id": "-7v6FpD3x9ZA"
      },
      "source": [
        "### START CODE HERE ###\n"
      ],
      "execution_count": null,
      "outputs": []
    },
    {
      "cell_type": "markdown",
      "metadata": {
        "id": "QjA9HmnBx9ZA"
      },
      "source": [
        "**Visualizing the plots:**"
      ]
    },
    {
      "cell_type": "code",
      "metadata": {
        "id": "NZCgZNjOx9ZA"
      },
      "source": [
        "### START CODE HERE ###\n"
      ],
      "execution_count": null,
      "outputs": []
    },
    {
      "cell_type": "markdown",
      "metadata": {
        "id": "MtNUHi7cx9ZA"
      },
      "source": [
        "5. Briefly explain graph's results."
      ]
    },
    {
      "cell_type": "markdown",
      "metadata": {
        "id": "xWv0Zgobx9ZA"
      },
      "source": [
        "6. How does your metric value differs between the training data and the test data and why?\n"
      ]
    }
  ]
}